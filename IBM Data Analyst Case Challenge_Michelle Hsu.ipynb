{
 "cells": [
  {
   "cell_type": "markdown",
   "metadata": {},
   "source": [
    "## Part 1: Business Intelligence"
   ]
  },
  {
   "cell_type": "markdown",
   "metadata": {},
   "source": [
    "There are studies showing that museums can yield positive influence on high school education. By engaging students in arts or history museum learning experience, school can actually prevent the drop-out rate and improve the chance for students to graduate on time. Therefore, in this challenge, I want to know whether there is a postive relationship between the school's graduation rate and the number of museums in the area. Even if there exists relationship, I want to find out whether the impact is significant or not."
   ]
  },
  {
   "cell_type": "markdown",
   "metadata": {},
   "source": [
    "## Part 2: Hypothesis"
   ]
  },
  {
   "cell_type": "markdown",
   "metadata": {},
   "source": [
    "Education & public space: graduation rate and number of museums\n",
    " - $H_0$: The number of museums and graduation rate has no significant relationship.\n",
    " - $H_1$: The number of museums and graduation rate has significant relationship. The more museums are in the area, the higher the graduation rate."
   ]
  },
  {
   "cell_type": "markdown",
   "metadata": {},
   "source": [
    "## Part 3: Data Understanding"
   ]
  },
  {
   "cell_type": "code",
   "execution_count": 1,
   "metadata": {
    "collapsed": true
   },
   "outputs": [],
   "source": [
    "# import the necessary packages\n",
    "import pandas as pd\n",
    "import numpy as np\n",
    "import matplotlib.pyplot as plt\n",
    "%matplotlib inline\n",
    "import seaborn as sns\n",
    "import warnings\n",
    "warnings.filterwarnings('ignore')"
   ]
  },
  {
   "cell_type": "code",
   "execution_count": 2,
   "metadata": {
    "collapsed": true
   },
   "outputs": [],
   "source": [
    "# import the datasets from NYC Open Data\n",
    "school = pd.read_csv('2018_DOE_High_School_Directory.csv')\n",
    "museum = pd.read_csv('MUSEUM.csv')"
   ]
  },
  {
   "cell_type": "markdown",
   "metadata": {},
   "source": [
    "Before conducting any analysis, I first look at the summary of these two datasets."
   ]
  },
  {
   "cell_type": "code",
   "execution_count": 3,
   "metadata": {
    "scrolled": false
   },
   "outputs": [
    {
     "name": "stdout",
     "output_type": "stream",
     "text": [
      "<class 'pandas.core.frame.DataFrame'>\n",
      "RangeIndex: 435 entries, 0 to 434\n",
      "Columns: 462 entries, dbn to NTA\n",
      "dtypes: float64(153), int64(2), object(307)\n",
      "memory usage: 1.5+ MB\n"
     ]
    }
   ],
   "source": [
    "school.info()"
   ]
  },
  {
   "cell_type": "code",
   "execution_count": 4,
   "metadata": {},
   "outputs": [
    {
     "name": "stdout",
     "output_type": "stream",
     "text": [
      "<class 'pandas.core.frame.DataFrame'>\n",
      "RangeIndex: 130 entries, 0 to 129\n",
      "Data columns (total 8 columns):\n",
      "the_geom    130 non-null object\n",
      "NAME        130 non-null object\n",
      "TEL         128 non-null object\n",
      "URL         130 non-null object\n",
      "ADRESS1     130 non-null object\n",
      "ADDRESS2    15 non-null object\n",
      "CITY        130 non-null object\n",
      "ZIP         130 non-null int64\n",
      "dtypes: int64(1), object(7)\n",
      "memory usage: 8.2+ KB\n"
     ]
    }
   ],
   "source": [
    "museum.info()"
   ]
  },
  {
   "cell_type": "code",
   "execution_count": 5,
   "metadata": {},
   "outputs": [
    {
     "data": {
      "text/html": [
       "<div>\n",
       "<style>\n",
       "    .dataframe thead tr:only-child th {\n",
       "        text-align: right;\n",
       "    }\n",
       "\n",
       "    .dataframe thead th {\n",
       "        text-align: left;\n",
       "    }\n",
       "\n",
       "    .dataframe tbody tr th {\n",
       "        vertical-align: top;\n",
       "    }\n",
       "</style>\n",
       "<table border=\"1\" class=\"dataframe\">\n",
       "  <thead>\n",
       "    <tr style=\"text-align: right;\">\n",
       "      <th></th>\n",
       "      <th>dbn</th>\n",
       "      <th>school_name</th>\n",
       "      <th>boro</th>\n",
       "      <th>overview_paragraph</th>\n",
       "      <th>school_10th_seats</th>\n",
       "      <th>academicopportunities1</th>\n",
       "      <th>academicopportunities2</th>\n",
       "      <th>academicopportunities3</th>\n",
       "      <th>academicopportunities4</th>\n",
       "      <th>academicopportunities5</th>\n",
       "      <th>...</th>\n",
       "      <th>state_code</th>\n",
       "      <th>Borough</th>\n",
       "      <th>Latitude</th>\n",
       "      <th>Longitude</th>\n",
       "      <th>Community Board</th>\n",
       "      <th>Council District</th>\n",
       "      <th>Census Tract</th>\n",
       "      <th>BIN</th>\n",
       "      <th>BBL</th>\n",
       "      <th>NTA</th>\n",
       "    </tr>\n",
       "  </thead>\n",
       "  <tbody>\n",
       "    <tr>\n",
       "      <th>0</th>\n",
       "      <td>08X519</td>\n",
       "      <td>Felisa Rincon de Gautier Institute for Law and...</td>\n",
       "      <td>X</td>\n",
       "      <td>The Felisa Rincon de Gautier Institute for Law...</td>\n",
       "      <td>Y</td>\n",
       "      <td>CTE program(s) in: Law Academy</td>\n",
       "      <td>Introduction to Law and Public Policy, Civil L...</td>\n",
       "      <td>Forensic Science, Crime Scene Investigation, S...</td>\n",
       "      <td>Journalism, Partnership with Monroe College, C...</td>\n",
       "      <td>Partnerships with The Justice Resource Center ...</td>\n",
       "      <td>...</td>\n",
       "      <td>NY</td>\n",
       "      <td>BRONX</td>\n",
       "      <td>40.820486</td>\n",
       "      <td>-73.881187</td>\n",
       "      <td>9.0</td>\n",
       "      <td>17.0</td>\n",
       "      <td>28.0</td>\n",
       "      <td>2022544.0</td>\n",
       "      <td>2.036220e+09</td>\n",
       "      <td>Soundview-Castle Hill-Clason Point-Harding Par...</td>\n",
       "    </tr>\n",
       "    <tr>\n",
       "      <th>1</th>\n",
       "      <td>13K350</td>\n",
       "      <td>Urban Assembly High School of Music and Art</td>\n",
       "      <td>K</td>\n",
       "      <td>The Urban Assembly School of Music and Art pre...</td>\n",
       "      <td>Y</td>\n",
       "      <td>The Arts program offerings are the vehicles th...</td>\n",
       "      <td>Art /Academic Portfolios for assessments are p...</td>\n",
       "      <td>Student Participate in theme-based trips &amp; The...</td>\n",
       "      <td>Pro Tools, Logic, Garage Band, Photoshop, Illu...</td>\n",
       "      <td>Artist-in-Residence, Visiting Artist Series, T...</td>\n",
       "      <td>...</td>\n",
       "      <td>NY</td>\n",
       "      <td>BROOKLYN</td>\n",
       "      <td>40.69733</td>\n",
       "      <td>-73.984528</td>\n",
       "      <td>2.0</td>\n",
       "      <td>33.0</td>\n",
       "      <td>15.0</td>\n",
       "      <td>3000216.0</td>\n",
       "      <td>3.001200e+09</td>\n",
       "      <td>DUMBO-Vinegar Hill-Downtown Brooklyn-Boerum Hi...</td>\n",
       "    </tr>\n",
       "    <tr>\n",
       "      <th>2</th>\n",
       "      <td>28Q680</td>\n",
       "      <td>Queens Gateway to Health Sciences Secondary Sc...</td>\n",
       "      <td>Q</td>\n",
       "      <td>is committed to discipline and hard work. We ...</td>\n",
       "      <td>Y</td>\n",
       "      <td>Community Service, PSAT/SAT Prep (grades 9-11 ...</td>\n",
       "      <td>CUNY College Now, Hospital Internships and Vol...</td>\n",
       "      <td>Separate medical mentoring for boys and girls,...</td>\n",
       "      <td>Double-period science and mathematics classes</td>\n",
       "      <td>NaN</td>\n",
       "      <td>...</td>\n",
       "      <td>NY</td>\n",
       "      <td>QUEENS</td>\n",
       "      <td>40.718027</td>\n",
       "      <td>-73.805923</td>\n",
       "      <td>8.0</td>\n",
       "      <td>24.0</td>\n",
       "      <td>1267.0</td>\n",
       "      <td>4539721.0</td>\n",
       "      <td>4.068580e+09</td>\n",
       "      <td>Pomonok-Flushing Heights-Hillcrest            ...</td>\n",
       "    </tr>\n",
       "    <tr>\n",
       "      <th>3</th>\n",
       "      <td>08X282</td>\n",
       "      <td>Women's Academy of Excellence</td>\n",
       "      <td>X</td>\n",
       "      <td>The Women's Academy of Excellence is an all-gi...</td>\n",
       "      <td>NaN</td>\n",
       "      <td>Genetic Research Seminar, L'Oreal Roll Model P...</td>\n",
       "      <td>Monroe College JumpStart, National Hispanic Ho...</td>\n",
       "      <td>Pupilpath, Saturday School, Leadership Class, ...</td>\n",
       "      <td>PEARLS Awards, Academy Awards, Rose Ceremony/P...</td>\n",
       "      <td>School uniform required that includes skirt an...</td>\n",
       "      <td>...</td>\n",
       "      <td>NY</td>\n",
       "      <td>BRONX</td>\n",
       "      <td>40.81504</td>\n",
       "      <td>-73.85607</td>\n",
       "      <td>9.0</td>\n",
       "      <td>18.0</td>\n",
       "      <td>4.0</td>\n",
       "      <td>2020580.0</td>\n",
       "      <td>2.034780e+09</td>\n",
       "      <td>Soundview-Castle Hill-Clason Point-Harding Par...</td>\n",
       "    </tr>\n",
       "    <tr>\n",
       "      <th>4</th>\n",
       "      <td>25Q285</td>\n",
       "      <td>World Journalism Preparatory: A College Board ...</td>\n",
       "      <td>Q</td>\n",
       "      <td>At World Journalism Preparatory School (WJPS),...</td>\n",
       "      <td>NaN</td>\n",
       "      <td>iLearnNYC, a program for expanded online cours...</td>\n",
       "      <td>Four years of English, Math, Science, and Soci...</td>\n",
       "      <td>Advisory program supports social and emotional...</td>\n",
       "      <td>Pupil Path and Naviance online systems help st...</td>\n",
       "      <td>NaN</td>\n",
       "      <td>...</td>\n",
       "      <td>NY</td>\n",
       "      <td>QUEENS</td>\n",
       "      <td>40.764884</td>\n",
       "      <td>-73.789365</td>\n",
       "      <td>11.0</td>\n",
       "      <td>19.0</td>\n",
       "      <td>1139.0</td>\n",
       "      <td>4119139.0</td>\n",
       "      <td>4.052610e+09</td>\n",
       "      <td>Auburndale                                    ...</td>\n",
       "    </tr>\n",
       "  </tbody>\n",
       "</table>\n",
       "<p>5 rows × 462 columns</p>\n",
       "</div>"
      ],
      "text/plain": [
       "      dbn                                        school_name boro  \\\n",
       "0  08X519  Felisa Rincon de Gautier Institute for Law and...    X   \n",
       "1  13K350        Urban Assembly High School of Music and Art    K   \n",
       "2  28Q680  Queens Gateway to Health Sciences Secondary Sc...    Q   \n",
       "3  08X282                      Women's Academy of Excellence    X   \n",
       "4  25Q285  World Journalism Preparatory: A College Board ...    Q   \n",
       "\n",
       "                                  overview_paragraph school_10th_seats  \\\n",
       "0  The Felisa Rincon de Gautier Institute for Law...                 Y   \n",
       "1  The Urban Assembly School of Music and Art pre...                 Y   \n",
       "2   is committed to discipline and hard work. We ...                 Y   \n",
       "3  The Women's Academy of Excellence is an all-gi...               NaN   \n",
       "4  At World Journalism Preparatory School (WJPS),...               NaN   \n",
       "\n",
       "                              academicopportunities1  \\\n",
       "0                     CTE program(s) in: Law Academy   \n",
       "1  The Arts program offerings are the vehicles th...   \n",
       "2  Community Service, PSAT/SAT Prep (grades 9-11 ...   \n",
       "3  Genetic Research Seminar, L'Oreal Roll Model P...   \n",
       "4  iLearnNYC, a program for expanded online cours...   \n",
       "\n",
       "                              academicopportunities2  \\\n",
       "0  Introduction to Law and Public Policy, Civil L...   \n",
       "1  Art /Academic Portfolios for assessments are p...   \n",
       "2  CUNY College Now, Hospital Internships and Vol...   \n",
       "3  Monroe College JumpStart, National Hispanic Ho...   \n",
       "4  Four years of English, Math, Science, and Soci...   \n",
       "\n",
       "                              academicopportunities3  \\\n",
       "0  Forensic Science, Crime Scene Investigation, S...   \n",
       "1  Student Participate in theme-based trips & The...   \n",
       "2  Separate medical mentoring for boys and girls,...   \n",
       "3  Pupilpath, Saturday School, Leadership Class, ...   \n",
       "4  Advisory program supports social and emotional...   \n",
       "\n",
       "                              academicopportunities4  \\\n",
       "0  Journalism, Partnership with Monroe College, C...   \n",
       "1  Pro Tools, Logic, Garage Band, Photoshop, Illu...   \n",
       "2      Double-period science and mathematics classes   \n",
       "3  PEARLS Awards, Academy Awards, Rose Ceremony/P...   \n",
       "4  Pupil Path and Naviance online systems help st...   \n",
       "\n",
       "                              academicopportunities5  \\\n",
       "0  Partnerships with The Justice Resource Center ...   \n",
       "1  Artist-in-Residence, Visiting Artist Series, T...   \n",
       "2                                                NaN   \n",
       "3  School uniform required that includes skirt an...   \n",
       "4                                                NaN   \n",
       "\n",
       "                         ...                         state_code    Borough  \\\n",
       "0                        ...                                 NY  BRONX       \n",
       "1                        ...                                 NY  BROOKLYN    \n",
       "2                        ...                                 NY  QUEENS      \n",
       "3                        ...                                 NY  BRONX       \n",
       "4                        ...                                 NY  QUEENS      \n",
       "\n",
       "    Latitude   Longitude Community Board Council District Census Tract  \\\n",
       "0  40.820486  -73.881187             9.0             17.0         28.0   \n",
       "1   40.69733  -73.984528             2.0             33.0         15.0   \n",
       "2  40.718027  -73.805923             8.0             24.0       1267.0   \n",
       "3   40.81504   -73.85607             9.0             18.0          4.0   \n",
       "4  40.764884  -73.789365            11.0             19.0       1139.0   \n",
       "\n",
       "         BIN           BBL                                                NTA  \n",
       "0  2022544.0  2.036220e+09  Soundview-Castle Hill-Clason Point-Harding Par...  \n",
       "1  3000216.0  3.001200e+09  DUMBO-Vinegar Hill-Downtown Brooklyn-Boerum Hi...  \n",
       "2  4539721.0  4.068580e+09  Pomonok-Flushing Heights-Hillcrest            ...  \n",
       "3  2020580.0  2.034780e+09  Soundview-Castle Hill-Clason Point-Harding Par...  \n",
       "4  4119139.0  4.052610e+09  Auburndale                                    ...  \n",
       "\n",
       "[5 rows x 462 columns]"
      ]
     },
     "execution_count": 5,
     "metadata": {},
     "output_type": "execute_result"
    }
   ],
   "source": [
    "school.head()"
   ]
  },
  {
   "cell_type": "code",
   "execution_count": 6,
   "metadata": {},
   "outputs": [
    {
     "data": {
      "text/html": [
       "<div>\n",
       "<style>\n",
       "    .dataframe thead tr:only-child th {\n",
       "        text-align: right;\n",
       "    }\n",
       "\n",
       "    .dataframe thead th {\n",
       "        text-align: left;\n",
       "    }\n",
       "\n",
       "    .dataframe tbody tr th {\n",
       "        vertical-align: top;\n",
       "    }\n",
       "</style>\n",
       "<table border=\"1\" class=\"dataframe\">\n",
       "  <thead>\n",
       "    <tr style=\"text-align: right;\">\n",
       "      <th></th>\n",
       "      <th>the_geom</th>\n",
       "      <th>NAME</th>\n",
       "      <th>TEL</th>\n",
       "      <th>URL</th>\n",
       "      <th>ADRESS1</th>\n",
       "      <th>ADDRESS2</th>\n",
       "      <th>CITY</th>\n",
       "      <th>ZIP</th>\n",
       "    </tr>\n",
       "  </thead>\n",
       "  <tbody>\n",
       "    <tr>\n",
       "      <th>0</th>\n",
       "      <td>POINT (-74.01375579519738 40.703816216918035)</td>\n",
       "      <td>Alexander Hamilton U.S. Custom House</td>\n",
       "      <td>(212) 514-3700</td>\n",
       "      <td>http://www.oldnycustomhouse.gov/</td>\n",
       "      <td>1 Bowling Grn</td>\n",
       "      <td>NaN</td>\n",
       "      <td>New York</td>\n",
       "      <td>10004</td>\n",
       "    </tr>\n",
       "    <tr>\n",
       "      <th>1</th>\n",
       "      <td>POINT (-74.06303178855111 40.615120837755356)</td>\n",
       "      <td>Alice Austen House Museum</td>\n",
       "      <td>(718) 816-4506</td>\n",
       "      <td>http://www.aliceausten.org/</td>\n",
       "      <td>2 Hylan Blvd</td>\n",
       "      <td>NaN</td>\n",
       "      <td>Staten Island</td>\n",
       "      <td>10305</td>\n",
       "    </tr>\n",
       "    <tr>\n",
       "      <th>2</th>\n",
       "      <td>POINT (-73.94729768541572 40.833853500753314)</td>\n",
       "      <td>American Academy of Arts and Letters</td>\n",
       "      <td>(212) 368-5900</td>\n",
       "      <td>http://www.artsandletters.org/</td>\n",
       "      <td>633 W. 155th St.</td>\n",
       "      <td>NaN</td>\n",
       "      <td>New York</td>\n",
       "      <td>10032</td>\n",
       "    </tr>\n",
       "    <tr>\n",
       "      <th>3</th>\n",
       "      <td>POINT (-73.97810302110001 40.76162497138548)</td>\n",
       "      <td>American Folk Art Museum</td>\n",
       "      <td>(212) 265-1040</td>\n",
       "      <td>http://www.folkartmuseum.org/</td>\n",
       "      <td>45 West 53rd Street</td>\n",
       "      <td>NaN</td>\n",
       "      <td>New York</td>\n",
       "      <td>10019</td>\n",
       "    </tr>\n",
       "    <tr>\n",
       "      <th>4</th>\n",
       "      <td>POINT (-74.0396848374904 40.69905626244391)</td>\n",
       "      <td>American Immigration History Center</td>\n",
       "      <td>(212) 363-3200</td>\n",
       "      <td>http://www.ellisisland.org/</td>\n",
       "      <td>Ellis Island</td>\n",
       "      <td>NaN</td>\n",
       "      <td>New York</td>\n",
       "      <td>0</td>\n",
       "    </tr>\n",
       "  </tbody>\n",
       "</table>\n",
       "</div>"
      ],
      "text/plain": [
       "                                        the_geom  \\\n",
       "0  POINT (-74.01375579519738 40.703816216918035)   \n",
       "1  POINT (-74.06303178855111 40.615120837755356)   \n",
       "2  POINT (-73.94729768541572 40.833853500753314)   \n",
       "3   POINT (-73.97810302110001 40.76162497138548)   \n",
       "4    POINT (-74.0396848374904 40.69905626244391)   \n",
       "\n",
       "                                   NAME             TEL  \\\n",
       "0  Alexander Hamilton U.S. Custom House  (212) 514-3700   \n",
       "1             Alice Austen House Museum  (718) 816-4506   \n",
       "2  American Academy of Arts and Letters  (212) 368-5900   \n",
       "3              American Folk Art Museum  (212) 265-1040   \n",
       "4   American Immigration History Center  (212) 363-3200   \n",
       "\n",
       "                                URL              ADRESS1 ADDRESS2  \\\n",
       "0  http://www.oldnycustomhouse.gov/        1 Bowling Grn      NaN   \n",
       "1       http://www.aliceausten.org/         2 Hylan Blvd      NaN   \n",
       "2    http://www.artsandletters.org/     633 W. 155th St.      NaN   \n",
       "3     http://www.folkartmuseum.org/  45 West 53rd Street      NaN   \n",
       "4       http://www.ellisisland.org/         Ellis Island      NaN   \n",
       "\n",
       "            CITY    ZIP  \n",
       "0       New York  10004  \n",
       "1  Staten Island  10305  \n",
       "2       New York  10032  \n",
       "3       New York  10019  \n",
       "4       New York      0  "
      ]
     },
     "execution_count": 6,
     "metadata": {},
     "output_type": "execute_result"
    }
   ],
   "source": [
    "museum.head()"
   ]
  },
  {
   "cell_type": "code",
   "execution_count": 7,
   "metadata": {
    "collapsed": true
   },
   "outputs": [],
   "source": [
    "# Keeping the features that matter and excluding unnecessary ones\n",
    "school = school[['school_name','neighborhood','shared_space','total_students','pct_stu_enough_variety',\\\n",
    "                 'graduation_rate', 'attendance_rate', 'pct_stu_safe','Postcode', 'Borough']]\n",
    "museum = museum[['NAME', 'CITY', 'ZIP']]"
   ]
  },
  {
   "cell_type": "markdown",
   "metadata": {},
   "source": [
    "## Part 4: Data Preparation"
   ]
  },
  {
   "cell_type": "code",
   "execution_count": 8,
   "metadata": {
    "collapsed": true
   },
   "outputs": [],
   "source": [
    "# Count the number of museums by postal code\n",
    "m1 = museum.groupby('ZIP').count()['NAME'].reset_index()\n",
    "m1.columns = ['Postcode', 'Museum_count']"
   ]
  },
  {
   "cell_type": "markdown",
   "metadata": {},
   "source": [
    "<b>Data Joining"
   ]
  },
  {
   "cell_type": "code",
   "execution_count": 9,
   "metadata": {
    "collapsed": true
   },
   "outputs": [],
   "source": [
    "# Join the school table with the museum table on Postcode using left join\n",
    "df = school.merge(m1, on = ['Postcode'], how = 'left')"
   ]
  },
  {
   "cell_type": "code",
   "execution_count": 10,
   "metadata": {
    "scrolled": false
   },
   "outputs": [
    {
     "data": {
      "text/html": [
       "<div>\n",
       "<style>\n",
       "    .dataframe thead tr:only-child th {\n",
       "        text-align: right;\n",
       "    }\n",
       "\n",
       "    .dataframe thead th {\n",
       "        text-align: left;\n",
       "    }\n",
       "\n",
       "    .dataframe tbody tr th {\n",
       "        vertical-align: top;\n",
       "    }\n",
       "</style>\n",
       "<table border=\"1\" class=\"dataframe\">\n",
       "  <thead>\n",
       "    <tr style=\"text-align: right;\">\n",
       "      <th></th>\n",
       "      <th>school_name</th>\n",
       "      <th>neighborhood</th>\n",
       "      <th>shared_space</th>\n",
       "      <th>total_students</th>\n",
       "      <th>pct_stu_enough_variety</th>\n",
       "      <th>graduation_rate</th>\n",
       "      <th>attendance_rate</th>\n",
       "      <th>pct_stu_safe</th>\n",
       "      <th>Postcode</th>\n",
       "      <th>Borough</th>\n",
       "      <th>Museum_count</th>\n",
       "    </tr>\n",
       "  </thead>\n",
       "  <tbody>\n",
       "    <tr>\n",
       "      <th>0</th>\n",
       "      <td>Felisa Rincon de Gautier Institute for Law and...</td>\n",
       "      <td>Castle Hill-Clason Point</td>\n",
       "      <td>Yes</td>\n",
       "      <td>242</td>\n",
       "      <td>0.15</td>\n",
       "      <td>0.49</td>\n",
       "      <td>0.81</td>\n",
       "      <td>0.38</td>\n",
       "      <td>10473</td>\n",
       "      <td>BRONX</td>\n",
       "      <td>NaN</td>\n",
       "    </tr>\n",
       "    <tr>\n",
       "      <th>1</th>\n",
       "      <td>Urban Assembly High School of Music and Art</td>\n",
       "      <td>DUMBO-Downtown Brooklyn</td>\n",
       "      <td>Yes</td>\n",
       "      <td>268</td>\n",
       "      <td>0.17</td>\n",
       "      <td>0.83</td>\n",
       "      <td>0.81</td>\n",
       "      <td>0.91</td>\n",
       "      <td>11201</td>\n",
       "      <td>BROOKLYN</td>\n",
       "      <td>1.0</td>\n",
       "    </tr>\n",
       "    <tr>\n",
       "      <th>2</th>\n",
       "      <td>Queens Gateway to Health Sciences Secondary Sc...</td>\n",
       "      <td>Flushing Heights-Hillcrest</td>\n",
       "      <td>Yes</td>\n",
       "      <td>704</td>\n",
       "      <td>0.24</td>\n",
       "      <td>0.97</td>\n",
       "      <td>0.96</td>\n",
       "      <td>0.85</td>\n",
       "      <td>11432</td>\n",
       "      <td>QUEENS</td>\n",
       "      <td>1.0</td>\n",
       "    </tr>\n",
       "  </tbody>\n",
       "</table>\n",
       "</div>"
      ],
      "text/plain": [
       "                                         school_name  \\\n",
       "0  Felisa Rincon de Gautier Institute for Law and...   \n",
       "1        Urban Assembly High School of Music and Art   \n",
       "2  Queens Gateway to Health Sciences Secondary Sc...   \n",
       "\n",
       "                 neighborhood shared_space  total_students  \\\n",
       "0    Castle Hill-Clason Point          Yes             242   \n",
       "1     DUMBO-Downtown Brooklyn          Yes             268   \n",
       "2  Flushing Heights-Hillcrest          Yes             704   \n",
       "\n",
       "   pct_stu_enough_variety  graduation_rate  attendance_rate  pct_stu_safe  \\\n",
       "0                    0.15             0.49             0.81          0.38   \n",
       "1                    0.17             0.83             0.81          0.91   \n",
       "2                    0.24             0.97             0.96          0.85   \n",
       "\n",
       "   Postcode    Borough  Museum_count  \n",
       "0     10473  BRONX               NaN  \n",
       "1     11201  BROOKLYN            1.0  \n",
       "2     11432  QUEENS              1.0  "
      ]
     },
     "execution_count": 10,
     "metadata": {},
     "output_type": "execute_result"
    }
   ],
   "source": [
    "df.head(3)"
   ]
  },
  {
   "cell_type": "code",
   "execution_count": 11,
   "metadata": {},
   "outputs": [
    {
     "data": {
      "text/plain": [
       "{'BRONX    ', nan, 'QUEENS   ', 'BROOKLYN ', 'STATEN IS', 'MANHATTAN'}"
      ]
     },
     "execution_count": 11,
     "metadata": {},
     "output_type": "execute_result"
    }
   ],
   "source": [
    "set(df['Borough'])"
   ]
  },
  {
   "cell_type": "markdown",
   "metadata": {},
   "source": [
    "<b>Handling Missing Values"
   ]
  },
  {
   "cell_type": "code",
   "execution_count": 12,
   "metadata": {
    "collapsed": true
   },
   "outputs": [],
   "source": [
    "df_missing = df.isnull().sum()[df.isnull().sum() != 0]/len(df)*100"
   ]
  },
  {
   "cell_type": "code",
   "execution_count": 13,
   "metadata": {},
   "outputs": [
    {
     "data": {
      "text/plain": [
       "Museum_count              56.321839\n",
       "graduation_rate           10.344828\n",
       "Borough                    0.229885\n",
       "pct_stu_safe               0.229885\n",
       "attendance_rate            0.229885\n",
       "pct_stu_enough_variety     0.229885\n",
       "dtype: float64"
      ]
     },
     "execution_count": 13,
     "metadata": {},
     "output_type": "execute_result"
    }
   ],
   "source": [
    "df_missing.sort_values(ascending= False)"
   ]
  },
  {
   "cell_type": "markdown",
   "metadata": {},
   "source": [
    "From the above analysis, one can see that \"Museum_count\" has over 56% of missing value and our target variable \"graduation_rate\" also has some missing values. In addition, the percentage of the rest features that have missing values are the same, which indicates the missingness is not missing at random."
   ]
  },
  {
   "cell_type": "markdown",
   "metadata": {},
   "source": [
    "- 'graduation_rate'<br>\n",
    "Since our response variable is \"graduation_rate\", I will drop the instances whose \"graduation_rate\" is missing."
   ]
  },
  {
   "cell_type": "code",
   "execution_count": 14,
   "metadata": {
    "collapsed": true
   },
   "outputs": [],
   "source": [
    "df.dropna(subset= ['graduation_rate'], inplace=True)"
   ]
  },
  {
   "cell_type": "code",
   "execution_count": 15,
   "metadata": {},
   "outputs": [
    {
     "data": {
      "text/plain": [
       "Borough          0.256410\n",
       "Museum_count    56.923077\n",
       "dtype: float64"
      ]
     },
     "execution_count": 15,
     "metadata": {},
     "output_type": "execute_result"
    }
   ],
   "source": [
    "df.isnull().sum()[df.isnull().sum() != 0]/len(df)*100"
   ]
  },
  {
   "cell_type": "markdown",
   "metadata": {},
   "source": [
    "After dropping the instances with missing \"graduation_rate\", only \"Borough\" and \"Museum_count\" contain missing value."
   ]
  },
  {
   "cell_type": "markdown",
   "metadata": {},
   "source": [
    "- 'Museum_count'<br>\n",
    "In this scenario, I assume the museum dataset is comprehensive of the museums in New York City. Therefore, the missing value for \"Museum_count\" is treated as 0, implying that there is no museum in the zip code area."
   ]
  },
  {
   "cell_type": "code",
   "execution_count": 16,
   "metadata": {
    "collapsed": true
   },
   "outputs": [],
   "source": [
    "df['Museum_count'].fillna(0, inplace = True)"
   ]
  },
  {
   "cell_type": "markdown",
   "metadata": {},
   "source": [
    "- 'Borough'<br>"
   ]
  },
  {
   "cell_type": "markdown",
   "metadata": {},
   "source": [
    "Since there is only 1 instance with \"Borough\" as missing value, I manually googled the school and found out that the school is located in the Queens area. Therefore, I filled in the value as \"QUEENS\" for the row."
   ]
  },
  {
   "cell_type": "code",
   "execution_count": 17,
   "metadata": {
    "collapsed": true
   },
   "outputs": [],
   "source": [
    "df['Borough'][df['Borough'].isnull()] = 'QUEENS'"
   ]
  },
  {
   "cell_type": "markdown",
   "metadata": {},
   "source": [
    "<b> Data Type Conversion - 'Postcode'"
   ]
  },
  {
   "cell_type": "code",
   "execution_count": 18,
   "metadata": {},
   "outputs": [
    {
     "name": "stdout",
     "output_type": "stream",
     "text": [
      "<class 'pandas.core.frame.DataFrame'>\n",
      "Int64Index: 390 entries, 0 to 434\n",
      "Data columns (total 11 columns):\n",
      "school_name               390 non-null object\n",
      "neighborhood              390 non-null object\n",
      "shared_space              390 non-null object\n",
      "total_students            390 non-null int64\n",
      "pct_stu_enough_variety    390 non-null float64\n",
      "graduation_rate           390 non-null float64\n",
      "attendance_rate           390 non-null float64\n",
      "pct_stu_safe              390 non-null float64\n",
      "Postcode                  390 non-null int64\n",
      "Borough                   390 non-null object\n",
      "Museum_count              390 non-null float64\n",
      "dtypes: float64(5), int64(2), object(4)\n",
      "memory usage: 36.6+ KB\n"
     ]
    }
   ],
   "source": [
    "df.info()"
   ]
  },
  {
   "cell_type": "code",
   "execution_count": 19,
   "metadata": {
    "collapsed": true
   },
   "outputs": [],
   "source": [
    "# Covert the \"Postcode\" from int64 to object\n",
    "df['Postcode'] = df['Postcode'].astype('object')"
   ]
  },
  {
   "cell_type": "markdown",
   "metadata": {},
   "source": [
    "<b>Strip extra spaces - 'Borough'"
   ]
  },
  {
   "cell_type": "code",
   "execution_count": 20,
   "metadata": {
    "collapsed": true
   },
   "outputs": [],
   "source": [
    "df['Borough']= df['Borough'].str.strip()"
   ]
  },
  {
   "cell_type": "markdown",
   "metadata": {},
   "source": [
    "## Part 5: Exploratory Data Analysis"
   ]
  },
  {
   "cell_type": "markdown",
   "metadata": {},
   "source": [
    "Provide 2 statistical analyses and 1 or more visualizations to pair with the analyses."
   ]
  },
  {
   "cell_type": "code",
   "execution_count": 21,
   "metadata": {
    "collapsed": true
   },
   "outputs": [],
   "source": [
    "# seperate the numerical features and categorical features\n",
    "numeric_col = list(df.select_dtypes(include=['float64', 'int64']).columns)\n",
    "cat_col = list(df.select_dtypes(include=['object']).columns)\n",
    "cat_col.remove('school_name')"
   ]
  },
  {
   "cell_type": "markdown",
   "metadata": {},
   "source": [
    "- Correlation Analysis<br>\n",
    "Analyze the correlation of numerical features with heatmap visualization."
   ]
  },
  {
   "cell_type": "code",
   "execution_count": 22,
   "metadata": {
    "collapsed": true
   },
   "outputs": [],
   "source": [
    "corr = df[numeric_col].corr()"
   ]
  },
  {
   "cell_type": "code",
   "execution_count": 23,
   "metadata": {},
   "outputs": [
    {
     "data": {
      "image/png": "[encoded data removed]",
      "text/plain": [
       "<matplotlib.figure.Figure at 0x1a0fd15898>"
      ]
     },
     "metadata": {},
     "output_type": "display_data"
    }
   ],
   "source": [
    "sns.set(style=\"white\")\n",
    "mask = np.zeros_like(corr, dtype=np.bool) \n",
    "mask[np.triu_indices_from(mask)] = True \n",
    "f, ax = plt.subplots(figsize=(10, 8))\n",
    "cmap = sns.diverging_palette(200, 14, as_cmap=True) \n",
    "sns.heatmap(corr, mask=mask, cmap= cmap, center= 0.5, square=True, linewidths= 0.2, cbar_kws={\"shrink\": 0.7})\n",
    "plt.show()"
   ]
  },
  {
   "cell_type": "markdown",
   "metadata": {},
   "source": [
    "From the above correlation analysis, one can notice there exists strong positive correlation, which is 0.756988, between 'attendance_rate' and 'graduation_rate'."
   ]
  },
  {
   "cell_type": "markdown",
   "metadata": {},
   "source": [
    "- Boxplot analysis and Whisker Boundary<br>\n",
    "Look at how \"graduation_rate\" distributes across different borough in terms of quartiles."
   ]
  },
  {
   "cell_type": "markdown",
   "metadata": {},
   "source": [
    "First, we can look at the distribution of our target \"graduation_rate\". "
   ]
  },
  {
   "cell_type": "code",
   "execution_count": 24,
   "metadata": {},
   "outputs": [
    {
     "data": {
      "image/png": "[encoded data removed]",
      "text/plain": [
       "<matplotlib.figure.Figure at 0x1a0fb836d8>"
      ]
     },
     "metadata": {},
     "output_type": "display_data"
    }
   ],
   "source": [
    "plt.figure(figsize = (8,6))\n",
    "sns.distplot(df['graduation_rate'], bins= 20, color='c')\n",
    "plt.axvline(df['graduation_rate'].mean(), color='k', linestyle='dashed', linewidth=1)\n",
    "plt.axvline(df['graduation_rate'].median(), color='r', linestyle='dashed', linewidth=1)\n",
    "plt.axvline(df['graduation_rate'].quantile(q = 0.75), color='b', linestyle='dashed', linewidth=1)\n",
    "plt.axvline(df['graduation_rate'].quantile(q = 0.25), color='b', linestyle='dashed', linewidth=1)\n",
    "plt.show()"
   ]
  },
  {
   "cell_type": "markdown",
   "metadata": {},
   "source": [
    "From the distribution plot above, we can know there are 2 peaks around \"graduation_rate\" of 0.7 and 1.0. Also, the 'graduation_rate' is slightly skewed to the right since the mean is larger than the median. Now, we can break 'graduation_rate' down by 'Borough'."
   ]
  },
  {
   "cell_type": "code",
   "execution_count": 25,
   "metadata": {},
   "outputs": [
    {
     "data": {
      "image/png": "[encoded data removed]",
      "text/plain": [
       "<matplotlib.figure.Figure at 0x1a0fd15710>"
      ]
     },
     "metadata": {},
     "output_type": "display_data"
    }
   ],
   "source": [
    "plt.figure(figsize = (10,6))\n",
    "sns.boxplot(x = 'Borough', y = 'graduation_rate', data = df) \n",
    "plt.show()"
   ]
  },
  {
   "cell_type": "markdown",
   "metadata": {},
   "source": [
    "According to the boxplot analysis, one can see that Queens and Manhattan have very wide spread of graduation_rate, meaning the variances within these two boroughs are higher than others. In addition, Queens area has the highest graduation rate in terms of median compared to other areas. Staten Island is more compact with its smaller range of graduation rate."
   ]
  },
  {
   "cell_type": "markdown",
   "metadata": {},
   "source": [
    "## Part 6: Feature engineering & selection"
   ]
  },
  {
   "cell_type": "markdown",
   "metadata": {},
   "source": [
    "Augment your dataset in at least 1 way (e.g., binning, calculations, transformations, etc.)"
   ]
  },
  {
   "cell_type": "markdown",
   "metadata": {},
   "source": [
    "- Standardization"
   ]
  },
  {
   "cell_type": "code",
   "execution_count": 26,
   "metadata": {
    "scrolled": true
   },
   "outputs": [
    {
     "data": {
      "text/html": [
       "<div>\n",
       "<style>\n",
       "    .dataframe thead tr:only-child th {\n",
       "        text-align: right;\n",
       "    }\n",
       "\n",
       "    .dataframe thead th {\n",
       "        text-align: left;\n",
       "    }\n",
       "\n",
       "    .dataframe tbody tr th {\n",
       "        vertical-align: top;\n",
       "    }\n",
       "</style>\n",
       "<table border=\"1\" class=\"dataframe\">\n",
       "  <thead>\n",
       "    <tr style=\"text-align: right;\">\n",
       "      <th></th>\n",
       "      <th>total_students</th>\n",
       "      <th>pct_stu_enough_variety</th>\n",
       "      <th>graduation_rate</th>\n",
       "      <th>attendance_rate</th>\n",
       "      <th>pct_stu_safe</th>\n",
       "      <th>Museum_count</th>\n",
       "    </tr>\n",
       "  </thead>\n",
       "  <tbody>\n",
       "    <tr>\n",
       "      <th>count</th>\n",
       "      <td>390.000000</td>\n",
       "      <td>390.000000</td>\n",
       "      <td>390.000000</td>\n",
       "      <td>390.000000</td>\n",
       "      <td>390.000000</td>\n",
       "      <td>390.000000</td>\n",
       "    </tr>\n",
       "    <tr>\n",
       "      <th>mean</th>\n",
       "      <td>741.276923</td>\n",
       "      <td>0.737564</td>\n",
       "      <td>0.779359</td>\n",
       "      <td>0.876436</td>\n",
       "      <td>0.828231</td>\n",
       "      <td>1.043590</td>\n",
       "    </tr>\n",
       "    <tr>\n",
       "      <th>std</th>\n",
       "      <td>786.605587</td>\n",
       "      <td>0.142972</td>\n",
       "      <td>0.142442</td>\n",
       "      <td>0.052450</td>\n",
       "      <td>0.091563</td>\n",
       "      <td>1.725552</td>\n",
       "    </tr>\n",
       "    <tr>\n",
       "      <th>min</th>\n",
       "      <td>128.000000</td>\n",
       "      <td>0.150000</td>\n",
       "      <td>0.390000</td>\n",
       "      <td>0.730000</td>\n",
       "      <td>0.380000</td>\n",
       "      <td>0.000000</td>\n",
       "    </tr>\n",
       "    <tr>\n",
       "      <th>25%</th>\n",
       "      <td>394.000000</td>\n",
       "      <td>0.660000</td>\n",
       "      <td>0.680000</td>\n",
       "      <td>0.840000</td>\n",
       "      <td>0.770000</td>\n",
       "      <td>0.000000</td>\n",
       "    </tr>\n",
       "    <tr>\n",
       "      <th>50%</th>\n",
       "      <td>481.000000</td>\n",
       "      <td>0.770000</td>\n",
       "      <td>0.770000</td>\n",
       "      <td>0.880000</td>\n",
       "      <td>0.840000</td>\n",
       "      <td>0.000000</td>\n",
       "    </tr>\n",
       "    <tr>\n",
       "      <th>75%</th>\n",
       "      <td>656.250000</td>\n",
       "      <td>0.840000</td>\n",
       "      <td>0.900000</td>\n",
       "      <td>0.920000</td>\n",
       "      <td>0.900000</td>\n",
       "      <td>1.000000</td>\n",
       "    </tr>\n",
       "    <tr>\n",
       "      <th>max</th>\n",
       "      <td>5682.000000</td>\n",
       "      <td>1.000000</td>\n",
       "      <td>1.000000</td>\n",
       "      <td>0.990000</td>\n",
       "      <td>1.000000</td>\n",
       "      <td>9.000000</td>\n",
       "    </tr>\n",
       "  </tbody>\n",
       "</table>\n",
       "</div>"
      ],
      "text/plain": [
       "       total_students  pct_stu_enough_variety  graduation_rate  \\\n",
       "count      390.000000              390.000000       390.000000   \n",
       "mean       741.276923                0.737564         0.779359   \n",
       "std        786.605587                0.142972         0.142442   \n",
       "min        128.000000                0.150000         0.390000   \n",
       "25%        394.000000                0.660000         0.680000   \n",
       "50%        481.000000                0.770000         0.770000   \n",
       "75%        656.250000                0.840000         0.900000   \n",
       "max       5682.000000                1.000000         1.000000   \n",
       "\n",
       "       attendance_rate  pct_stu_safe  Museum_count  \n",
       "count       390.000000    390.000000    390.000000  \n",
       "mean          0.876436      0.828231      1.043590  \n",
       "std           0.052450      0.091563      1.725552  \n",
       "min           0.730000      0.380000      0.000000  \n",
       "25%           0.840000      0.770000      0.000000  \n",
       "50%           0.880000      0.840000      0.000000  \n",
       "75%           0.920000      0.900000      1.000000  \n",
       "max           0.990000      1.000000      9.000000  "
      ]
     },
     "execution_count": 26,
     "metadata": {},
     "output_type": "execute_result"
    }
   ],
   "source": [
    "# Look at the statistic summary of the dataset\n",
    "df.describe()"
   ]
  },
  {
   "cell_type": "markdown",
   "metadata": {},
   "source": [
    "From the above summary, one can notice 'total_students' and 'Museum_count' have relatively larger scale than other features. Therefore, in order to make the model training less sensitive to the scale of our data, I am going to standardize 'total_students' and 'Museum_count'. To get these 2 features range from 0 to 1, I choose to use MinMaxScaler."
   ]
  },
  {
   "cell_type": "code",
   "execution_count": 27,
   "metadata": {
    "collapsed": true
   },
   "outputs": [],
   "source": [
    "from sklearn import preprocessing\n",
    "cols_to_normalize = ['total_students','Museum_count']\n",
    "x = df[cols_to_normalize].values\n",
    "scaler = preprocessing.MinMaxScaler()\n",
    "scaled_df = scaler.fit_transform(x)\n",
    "df_temp = pd.DataFrame(scaled_df, columns= cols_to_normalize, index = df.index)\n",
    "df[cols_to_normalize] = df_temp"
   ]
  },
  {
   "cell_type": "markdown",
   "metadata": {},
   "source": [
    "After conducting the standardization, the scale of the numerical features are similar."
   ]
  },
  {
   "cell_type": "code",
   "execution_count": 28,
   "metadata": {},
   "outputs": [
    {
     "data": {
      "text/html": [
       "<div>\n",
       "<style>\n",
       "    .dataframe thead tr:only-child th {\n",
       "        text-align: right;\n",
       "    }\n",
       "\n",
       "    .dataframe thead th {\n",
       "        text-align: left;\n",
       "    }\n",
       "\n",
       "    .dataframe tbody tr th {\n",
       "        vertical-align: top;\n",
       "    }\n",
       "</style>\n",
       "<table border=\"1\" class=\"dataframe\">\n",
       "  <thead>\n",
       "    <tr style=\"text-align: right;\">\n",
       "      <th></th>\n",
       "      <th>total_students</th>\n",
       "      <th>pct_stu_enough_variety</th>\n",
       "      <th>graduation_rate</th>\n",
       "      <th>attendance_rate</th>\n",
       "      <th>pct_stu_safe</th>\n",
       "      <th>Museum_count</th>\n",
       "    </tr>\n",
       "  </thead>\n",
       "  <tbody>\n",
       "    <tr>\n",
       "      <th>count</th>\n",
       "      <td>390.000000</td>\n",
       "      <td>390.000000</td>\n",
       "      <td>390.000000</td>\n",
       "      <td>390.000000</td>\n",
       "      <td>390.000000</td>\n",
       "      <td>390.000000</td>\n",
       "    </tr>\n",
       "    <tr>\n",
       "      <th>mean</th>\n",
       "      <td>0.110421</td>\n",
       "      <td>0.737564</td>\n",
       "      <td>0.779359</td>\n",
       "      <td>0.876436</td>\n",
       "      <td>0.828231</td>\n",
       "      <td>0.115954</td>\n",
       "    </tr>\n",
       "    <tr>\n",
       "      <th>std</th>\n",
       "      <td>0.141629</td>\n",
       "      <td>0.142972</td>\n",
       "      <td>0.142442</td>\n",
       "      <td>0.052450</td>\n",
       "      <td>0.091563</td>\n",
       "      <td>0.191728</td>\n",
       "    </tr>\n",
       "    <tr>\n",
       "      <th>min</th>\n",
       "      <td>0.000000</td>\n",
       "      <td>0.150000</td>\n",
       "      <td>0.390000</td>\n",
       "      <td>0.730000</td>\n",
       "      <td>0.380000</td>\n",
       "      <td>0.000000</td>\n",
       "    </tr>\n",
       "    <tr>\n",
       "      <th>25%</th>\n",
       "      <td>0.047893</td>\n",
       "      <td>0.660000</td>\n",
       "      <td>0.680000</td>\n",
       "      <td>0.840000</td>\n",
       "      <td>0.770000</td>\n",
       "      <td>0.000000</td>\n",
       "    </tr>\n",
       "    <tr>\n",
       "      <th>50%</th>\n",
       "      <td>0.063558</td>\n",
       "      <td>0.770000</td>\n",
       "      <td>0.770000</td>\n",
       "      <td>0.880000</td>\n",
       "      <td>0.840000</td>\n",
       "      <td>0.000000</td>\n",
       "    </tr>\n",
       "    <tr>\n",
       "      <th>75%</th>\n",
       "      <td>0.095112</td>\n",
       "      <td>0.840000</td>\n",
       "      <td>0.900000</td>\n",
       "      <td>0.920000</td>\n",
       "      <td>0.900000</td>\n",
       "      <td>0.111111</td>\n",
       "    </tr>\n",
       "    <tr>\n",
       "      <th>max</th>\n",
       "      <td>1.000000</td>\n",
       "      <td>1.000000</td>\n",
       "      <td>1.000000</td>\n",
       "      <td>0.990000</td>\n",
       "      <td>1.000000</td>\n",
       "      <td>1.000000</td>\n",
       "    </tr>\n",
       "  </tbody>\n",
       "</table>\n",
       "</div>"
      ],
      "text/plain": [
       "       total_students  pct_stu_enough_variety  graduation_rate  \\\n",
       "count      390.000000              390.000000       390.000000   \n",
       "mean         0.110421                0.737564         0.779359   \n",
       "std          0.141629                0.142972         0.142442   \n",
       "min          0.000000                0.150000         0.390000   \n",
       "25%          0.047893                0.660000         0.680000   \n",
       "50%          0.063558                0.770000         0.770000   \n",
       "75%          0.095112                0.840000         0.900000   \n",
       "max          1.000000                1.000000         1.000000   \n",
       "\n",
       "       attendance_rate  pct_stu_safe  Museum_count  \n",
       "count       390.000000    390.000000    390.000000  \n",
       "mean          0.876436      0.828231      0.115954  \n",
       "std           0.052450      0.091563      0.191728  \n",
       "min           0.730000      0.380000      0.000000  \n",
       "25%           0.840000      0.770000      0.000000  \n",
       "50%           0.880000      0.840000      0.000000  \n",
       "75%           0.920000      0.900000      0.111111  \n",
       "max           0.990000      1.000000      1.000000  "
      ]
     },
     "execution_count": 28,
     "metadata": {},
     "output_type": "execute_result"
    }
   ],
   "source": [
    "df.describe()"
   ]
  },
  {
   "cell_type": "markdown",
   "metadata": {},
   "source": [
    "- One-Hot Encoding<br>\n",
    "In order to train the model, I need to transfrom the categorical features into numerical values. In this case, I choose to use One-Hot Encoding, which will convert each level of categorical feature into dummy values."
   ]
  },
  {
   "cell_type": "code",
   "execution_count": 29,
   "metadata": {
    "collapsed": true
   },
   "outputs": [],
   "source": [
    "# One-Hot Encoding for categorical variables\n",
    "temp = pd.get_dummies(df[cat_col])"
   ]
  },
  {
   "cell_type": "code",
   "execution_count": 30,
   "metadata": {
    "collapsed": true
   },
   "outputs": [],
   "source": [
    "# drop the original categorical variables\n",
    "df = df.drop(cat_col, axis = 1)\n",
    "df = df.drop('school_name', axis = 1)\n",
    "# Combine the converted categorical features with the numerical features\n",
    "df = df.join(temp)"
   ]
  },
  {
   "cell_type": "code",
   "execution_count": 31,
   "metadata": {},
   "outputs": [
    {
     "name": "stdout",
     "output_type": "stream",
     "text": [
      "<class 'pandas.core.frame.DataFrame'>\n",
      "Int64Index: 390 entries, 0 to 434\n",
      "Columns: 241 entries, total_students to Borough_STATEN IS\n",
      "dtypes: float64(6), uint8(235)\n",
      "memory usage: 120.8 KB\n"
     ]
    }
   ],
   "source": [
    "df.info()"
   ]
  },
  {
   "cell_type": "markdown",
   "metadata": {},
   "source": [
    "After the data preparation, we now have a dataframe with 390 rows and 241 columns. We can proceed to tranform the dataframe into matrix for model training."
   ]
  },
  {
   "cell_type": "code",
   "execution_count": 32,
   "metadata": {
    "collapsed": true
   },
   "outputs": [],
   "source": [
    "X = np.array(df.loc[:, df.columns != 'graduation_rate'])\n",
    "y = np.array(df['graduation_rate'])"
   ]
  },
  {
   "cell_type": "code",
   "execution_count": 33,
   "metadata": {},
   "outputs": [
    {
     "name": "stdout",
     "output_type": "stream",
     "text": [
      "(390, 240)\n",
      "(390,)\n"
     ]
    }
   ],
   "source": [
    "print(X.shape)\n",
    "print(y.shape)"
   ]
  },
  {
   "cell_type": "code",
   "execution_count": 34,
   "metadata": {},
   "outputs": [
    {
     "name": "stderr",
     "output_type": "stream",
     "text": [
      "/Users/michellehsu/anaconda3/lib/python3.6/site-packages/sklearn/cross_validation.py:41: DeprecationWarning: This module was deprecated in version 0.18 in favor of the model_selection module into which all the refactored classes and functions are moved. Also note that the interface of the new CV iterators are different from that of this module. This module will be removed in 0.20.\n",
      "  \"This module will be removed in 0.20.\", DeprecationWarning)\n"
     ]
    }
   ],
   "source": [
    "# Partition the dataset into training data and test data\n",
    "from sklearn.cross_validation import train_test_split\n",
    "X_train, X_test, y_train, y_test = train_test_split(X , y, test_size=0.2)"
   ]
  },
  {
   "cell_type": "markdown",
   "metadata": {},
   "source": [
    "## Part 7: Modeling"
   ]
  },
  {
   "cell_type": "markdown",
   "metadata": {},
   "source": [
    "I choose to use Linear Regression with Lasso Regularization for the problem since it is a very interpretable yet powerful algorithm."
   ]
  },
  {
   "cell_type": "code",
   "execution_count": 35,
   "metadata": {
    "collapsed": true
   },
   "outputs": [],
   "source": [
    "from sklearn.linear_model import LinearRegression\n",
    "from sklearn.linear_model import LassoCV\n",
    "from sklearn.metrics import mean_squared_error"
   ]
  },
  {
   "cell_type": "markdown",
   "metadata": {},
   "source": [
    "- Simple Linear Regression without Lasso Regularization"
   ]
  },
  {
   "cell_type": "code",
   "execution_count": 36,
   "metadata": {},
   "outputs": [
    {
     "name": "stdout",
     "output_type": "stream",
     "text": [
      "R square of simple Linear Regression = 0.781 \n"
     ]
    }
   ],
   "source": [
    "lr_model = LinearRegression()\n",
    "lr_model.fit(X_train, y_train)\n",
    "print(\"R square of simple Linear Regression = %.3f \"%lr_model.score(X_train, y_train))"
   ]
  },
  {
   "cell_type": "code",
   "execution_count": 37,
   "metadata": {
    "scrolled": true
   },
   "outputs": [
    {
     "name": "stdout",
     "output_type": "stream",
     "text": [
      "Mean square error of simple Linear Regression = 58341659302820654874624.000 \n"
     ]
    }
   ],
   "source": [
    "preds = lr_model.predict(X_test)\n",
    "print(\"Mean square error of simple Linear Regression = %.3f \" %mean_squared_error(y_test, preds))"
   ]
  },
  {
   "cell_type": "markdown",
   "metadata": {},
   "source": [
    "- Linear Regression with Lasso Regularization<br>\n",
    "I used 10-fold cross validation to tune the regularization hyperparameter."
   ]
  },
  {
   "cell_type": "code",
   "execution_count": 38,
   "metadata": {
    "scrolled": true
   },
   "outputs": [
    {
     "name": "stdout",
     "output_type": "stream",
     "text": [
      "The best alpha is = 0.001\n",
      "R square of Linear Regression with Lasso Regularization = 0.615 \n"
     ]
    }
   ],
   "source": [
    "lr_cv = LassoCV(cv=10).fit(X_train, y_train)\n",
    "print(\"The best alpha is = %.3f\"%lr_cv.alpha_)\n",
    "print(\"R square of Linear Regression with Lasso Regularization = %.3f \"%lr_cv.score(X_train, y_train))"
   ]
  },
  {
   "cell_type": "code",
   "execution_count": 39,
   "metadata": {},
   "outputs": [
    {
     "name": "stdout",
     "output_type": "stream",
     "text": [
      "Mean square error of Linear Regression with Lasso Regularization = 0.007 \n"
     ]
    }
   ],
   "source": [
    "preds_cv = lr_cv.predict(X_test)\n",
    "print(\"Mean square error of Linear Regression with Lasso Regularization = %.3f \" %mean_squared_error(y_test, preds_cv))"
   ]
  },
  {
   "cell_type": "markdown",
   "metadata": {},
   "source": [
    "From the above model result, we know that Linear Regression with Lasso Regularization performs better than simple Linear Regression in terms of Mean square error."
   ]
  },
  {
   "cell_type": "markdown",
   "metadata": {},
   "source": [
    "## Part 8: Model Interpretation"
   ]
  },
  {
   "cell_type": "markdown",
   "metadata": {},
   "source": [
    "Explain the model’s output. Choose evaluation metrics to measure the success of your model & explain why you chose those metrics."
   ]
  },
  {
   "cell_type": "markdown",
   "metadata": {},
   "source": [
    "After training the Linear Regression, we can interpret the output by its coefficients. The Linear Regression with Lasso Regularization will zero out redundant and unimportant variables, which makes the model simpler and more generalizable. Originally, we have 241 features. However, by adopting Lasso Regularization, our final model has only 37 features."
   ]
  },
  {
   "cell_type": "code",
   "execution_count": 40,
   "metadata": {
    "collapsed": true
   },
   "outputs": [],
   "source": [
    "# Create a dictionary to store the feature with its corresponding coefficient\n",
    "feature_coef = dict(zip(list(df.columns[df.columns != 'graduation_rate']), lr_cv.coef_))"
   ]
  },
  {
   "cell_type": "code",
   "execution_count": 41,
   "metadata": {},
   "outputs": [
    {
     "data": {
      "text/plain": [
       "{'Borough_BRONX': -0.0099336061471122852,\n",
       " 'Borough_BROOKLYN': 0.0066736807882198925,\n",
       " 'Borough_MANHATTAN': -0.0066682303559908356,\n",
       " 'Museum_count': 0.025514535844171099,\n",
       " 'Postcode_10003': 0.0026157607212407173,\n",
       " 'Postcode_10040': -1.7601079498461477e-05,\n",
       " 'Postcode_10456': 0.0063391303573040224,\n",
       " 'Postcode_10459': -0.014701520350597958,\n",
       " 'Postcode_10463': 0.0063337079645609546,\n",
       " 'Postcode_10473': -0.00037185389574407988,\n",
       " 'Postcode_11201': 0.0095112016055100175,\n",
       " 'Postcode_11207': 0.039747497545839179,\n",
       " 'Postcode_11214': 0.0062055032804745995,\n",
       " 'Postcode_11434': -0.025215786260291046,\n",
       " 'attendance_rate': 1.5270936665192991,\n",
       " 'neighborhood_Brighton Beach': -0.0032552137670149367,\n",
       " 'neighborhood_Bushwick': 0.013711958431118448,\n",
       " 'neighborhood_Castle Hill-Clason Point': -0.0041810687083225643,\n",
       " 'neighborhood_Clinton': 0.015097523004863611,\n",
       " 'neighborhood_DUMBO-Downtown Brooklyn': 0.012283574364375919,\n",
       " 'neighborhood_Gramercy': 0.033899542317088305,\n",
       " 'neighborhood_Gravesend': 0.018376237507080607,\n",
       " 'neighborhood_Longwood': -0.0063059538189898772,\n",
       " 'neighborhood_Washington Heights N.': -0.054778352628712654,\n",
       " 'pct_stu_enough_variety': -0.022713918931836389,\n",
       " 'pct_stu_safe': 0.26782586634204647,\n",
       " 'shared_space_No': 0.017880851552437963}"
      ]
     },
     "execution_count": 41,
     "metadata": {},
     "output_type": "execute_result"
    }
   ],
   "source": [
    "# Extract the features with non-zero coefficient\n",
    "dict((k, v) for k, v in feature_coef.items() if v != 0)"
   ]
  },
  {
   "cell_type": "markdown",
   "metadata": {},
   "source": [
    "Since our focus here is the relationship between 'graduation_rate' and 'Museum_count', I will first investigate the coefficient of 'Museum_count'. "
   ]
  },
  {
   "cell_type": "code",
   "execution_count": 42,
   "metadata": {},
   "outputs": [
    {
     "name": "stdout",
     "output_type": "stream",
     "text": [
      "The coefficient of Museum_count = 0.02551\n"
     ]
    }
   ],
   "source": [
    "print(\"The coefficient of Museum_count = %.5f\"%feature_coef['Museum_count'])"
   ]
  },
  {
   "cell_type": "markdown",
   "metadata": {},
   "source": [
    "- Interpretation & Hypothesis Result"
   ]
  },
  {
   "cell_type": "markdown",
   "metadata": {},
   "source": [
    "From the model, we know that 'Museum_count' is somewhat important since its coefficient is not 0. Instead, the coefficient of 'Museum_count'is 0.02952, which means the graduation rate will increase by 0.02952 with an additional museum in the area, holding other factors constant. The same interpretation can be apply to other coefficients. For instance, the graduation rate will improve by 1.57969 with 1 unit increase in attendance rate.<br>\n",
    "\n",
    "To test whether 'Museum_count' is significantly important in predicting 'graduation_rate', I calculated the Z-score as followed."
   ]
  },
  {
   "cell_type": "code",
   "execution_count": 43,
   "metadata": {},
   "outputs": [
    {
     "name": "stdout",
     "output_type": "stream",
     "text": [
      "The Z-score is 3.045\n"
     ]
    }
   ],
   "source": [
    "# Calculate the Z-score: (coefficient - 0)/standard error\n",
    "z = 0.02952/(np.std(df['Museum_count'])/len(df)**(1/2.0))\n",
    "print(\"The Z-score is %.3f\"%z)"
   ]
  },
  {
   "cell_type": "markdown",
   "metadata": {},
   "source": [
    "Based on the Z-score, we know 'Museum_count' is significant since the corresponding p-value is less than 0.0012. Therefore, we can reject the null hypothesis and conclude that the number of museums and graduation rate has positive relationship. "
   ]
  },
  {
   "cell_type": "markdown",
   "metadata": {},
   "source": [
    "- Model Evaluation"
   ]
  },
  {
   "cell_type": "markdown",
   "metadata": {},
   "source": [
    "For model evaluation, I chose to use <b>Mean Squared Error</b> as the metric. This is the most commonly used metric for Linear Regression. The following is the formula for Mean Squared Error:<br>\n",
    "$MSE = \\frac{1}{n}\\sum\\limits_{i=1}^{n} (y_i - \\hat{y}_i)^2$"
   ]
  },
  {
   "cell_type": "code",
   "execution_count": null,
   "metadata": {
    "collapsed": true
   },
   "outputs": [],
   "source": []
  },
  {
   "cell_type": "code",
   "execution_count": 44,
   "metadata": {},
   "outputs": [
    {
     "name": "stdout",
     "output_type": "stream",
     "text": [
      "Mean square error of simple Linear Regression = 58341659302820654874624.000 \n",
      "Mean square error of Linear Regression with Lasso Regularization = 0.007 \n"
     ]
    }
   ],
   "source": [
    "print(\"Mean square error of simple Linear Regression = %.3f \" %mean_squared_error(y_test, preds))\n",
    "print(\"Mean square error of Linear Regression with Lasso Regularization = %.3f \" %mean_squared_error(y_test, preds_cv))"
   ]
  },
  {
   "cell_type": "markdown",
   "metadata": {},
   "source": [
    "Comparing the Linear Model with Lasso Regularization and without Lasso Regularization, we can clearly see that the one with regularization performs much better."
   ]
  },
  {
   "cell_type": "markdown",
   "metadata": {},
   "source": [
    "## Part 9: Analysis"
   ]
  },
  {
   "cell_type": "markdown",
   "metadata": {},
   "source": [
    "Write a short summary paragraph that explains how your quantitative analyses and modeling ladder back up your hypothesis."
   ]
  },
  {
   "cell_type": "markdown",
   "metadata": {},
   "source": [
    "- Summary<br>\n",
    "In this project, I want to test whether the number of museums and high school graduation rate have significantly positive relationship. In order to quantify the analysis, I adopted Linear Regression with Lasso Regularization due to its simplicity and generalizability. Before training the model, I standardized 'total_students' and 'Museum_count' to make sure the scale of the features is comparable. Also, I converted the categorical variables into dummy values using One-Hot Encoding. While training the Linear model, I used 10-fold cross validation to tune the hypterparameter for regularization power. The Linear Regression with Lasso Regularization ended up performing much better than the one without regularization. From the model result, the coefficient for the number of museums('Museum_count') is not 0, implying that the feature is somewhat important in predicting the high school graduation rate. To further analyze the hypothesis, I calculated the Z-score based on the coefficient and standard error of the feature, which verify the statistical significance of 'Museum_count'. Hence, we can reject the null hypothesis and conclude that the number of museums has positive relationship with high school graduaion rate under significane level of 0.05."
   ]
  }
 ],
 "metadata": {
  "kernelspec": {
   "display_name": "Python 3",
   "language": "python",
   "name": "python3"
  },
  "language_info": {
   "codemirror_mode": {
    "name": "ipython",
    "version": 3
   },
   "file_extension": ".py",
   "mimetype": "text/x-python",
   "name": "python",
   "nbconvert_exporter": "python",
   "pygments_lexer": "ipython3",
   "version": "3.6.3"
  }
 },
 "nbformat": 4,
 "nbformat_minor": 2
}
